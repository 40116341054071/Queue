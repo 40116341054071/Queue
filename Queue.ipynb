{
  "cells": [
    {
      "cell_type": "markdown",
      "metadata": {
        "id": "view-in-github",
        "colab_type": "text"
      },
      "source": [
        "<a href=\"https://colab.research.google.com/github/40116341054071/Queue/blob/main/Queue.ipynb\" target=\"_parent\"><img src=\"https://colab.research.google.com/assets/colab-badge.svg\" alt=\"Open In Colab\"/></a>"
      ]
    },
    {
      "cell_type": "code",
      "execution_count": null,
      "metadata": {
        "id": "VeEd9lXfymH5"
      },
      "outputs": [],
      "source": [
        "class Queue:\n",
        "  def __init__(self,k):\n",
        "    self.k=k\n",
        "    self.queue=[None]*k\n",
        "    self.front=-1\n",
        "    self.rear=-1\n",
        "#نشان دادن صف\n",
        "  def disqueue(self):\n",
        "    if self.front==-1:\n",
        "      print(\"empty\")\n",
        "    for i in range (self.front,self.rear+1):\n",
        "      print(self.queue[i])\n",
        "#اضافه کردن به صف\n",
        "  def insqueue (self,data):\n",
        "    if self.rear==-1:\n",
        "      self.front=0\n",
        "      self.rear=0\n",
        "      self.queue[0]=data\n",
        "    if self.rear+1==self.k :\n",
        "      print (\"is full\")\n",
        "      return\n",
        "    else:\n",
        "      self.queue[self.rear]=data\n",
        "      self.rear+=1\n",
        "#حذف کردن از صف\n",
        "  def   delqueue(self):\n",
        "    if self.front==-1:\n",
        "      print(\"empty\")\n",
        "    elif self.front==self.rear:\n",
        "      t=self.queue[self.front]\n",
        "      self.front=-1\n",
        "      self.rear=-1\n",
        "      return t\n",
        "    else:\n",
        "      t=self.queue[self.front]\n",
        "      self.front+=1\n",
        "      return t"
      ]
    }
  ],
  "metadata": {
    "colab": {
      "provenance": [],
      "mount_file_id": "1hcpOrqcNHmLONPKAjThYxAeWLuE68Ssz",
      "authorship_tag": "ABX9TyNPj/OIwed1AlSRPYlgZtJh",
      "include_colab_link": true
    },
    "kernelspec": {
      "display_name": "Python 3",
      "name": "python3"
    },
    "language_info": {
      "name": "python"
    }
  },
  "nbformat": 4,
  "nbformat_minor": 0
}